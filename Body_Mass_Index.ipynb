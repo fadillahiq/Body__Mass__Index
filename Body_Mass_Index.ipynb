{
 "cells": [
  {
   "cell_type": "code",
   "execution_count": 23,
   "metadata": {},
   "outputs": [
    {
     "name": "stdout",
     "output_type": "stream",
     "text": [
      "Masukkan Berat Badan (Kilogram) : 55\n",
      "Masukkan Tinggi Badan (Centimeter) : 170\n",
      "BMI :  19.031141868512112 \n",
      "Keterangan : Berat Badan Seimbang (Ideal)\n"
     ]
    }
   ],
   "source": [
    "bb = float(input(\"Masukkan Berat Badan (Kilogram) : \"))\n",
    "tbcm = float(input(\"Masukkan Tinggi Badan (Centimeter) : \"))\n",
    "tbm = tbcm*0.01\n",
    "bmi=bb/(tbm**2)\n",
    "if bmi < 18.5:\n",
    "    print (\"BMI : \" , bmi , \"\\nKeterangan : Kekurangan Berat Badan (Kurus)\")\n",
    "elif bmi >= 18.5 and bmi <= 24.9:\n",
    "    print(\"BMI : \" , bmi , \"\\nKeterangan : Berat Badan Seimbang (Ideal)\")\n",
    "else:\n",
    "    print (\"BMI : \" , bmi , \"\\nKeterangan : Kelebihan Berat Badan (Obesitas)\")"
   ]
  },
  {
   "cell_type": "code",
   "execution_count": null,
   "metadata": {},
   "outputs": [],
   "source": []
  },
  {
   "cell_type": "code",
   "execution_count": null,
   "metadata": {},
   "outputs": [],
   "source": []
  }
 ],
 "metadata": {
  "kernelspec": {
   "display_name": "Python 3",
   "language": "python",
   "name": "python3"
  },
  "language_info": {
   "codemirror_mode": {
    "name": "ipython",
    "version": 3
   },
   "file_extension": ".py",
   "mimetype": "text/x-python",
   "name": "python",
   "nbconvert_exporter": "python",
   "pygments_lexer": "ipython3",
   "version": "3.7.1"
  }
 },
 "nbformat": 4,
 "nbformat_minor": 2
}
